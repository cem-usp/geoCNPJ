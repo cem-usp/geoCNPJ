{
 "cells": [
  {
   "cell_type": "code",
   "execution_count": 1,
   "metadata": {},
   "outputs": [],
   "source": [
    "import pandas as pd\n",
    "import vaex\n",
    "import glob\n",
    "import gc\n",
    "import metadata"
   ]
  },
  {
   "cell_type": "code",
   "execution_count": 3,
   "metadata": {},
   "outputs": [
    {
     "name": "stdout",
     "output_type": "stream",
     "text": [
      "Estabelecimentos7\n",
      "(4753435, 30)\n",
      "Estabelecimentos7 exportado!\n",
      "Estabelecimentos8\n",
      "(4753435, 30)\n",
      "Estabelecimentos8 exportado!\n",
      "Estabelecimentos9\n",
      "(4753435, 30)\n",
      "Estabelecimentos9 exportado!\n",
      "Estabelecimentos2\n",
      "(4753435, 30)\n",
      "Estabelecimentos2 exportado!\n",
      "Estabelecimentos4\n",
      "(4753435, 30)\n",
      "Estabelecimentos4 exportado!\n",
      "Estabelecimentos3\n",
      "(4753435, 30)\n",
      "Estabelecimentos3 exportado!\n",
      "Estabelecimentos5\n",
      "(4753435, 30)\n",
      "Estabelecimentos5 exportado!\n",
      "Estabelecimentos1\n",
      "(4753435, 30)\n",
      "Estabelecimentos1 exportado!\n",
      "Estabelecimentos6\n",
      "(4753435, 30)\n",
      "Estabelecimentos6 exportado!\n",
      "Estabelecimentos0\n",
      "(13032276, 30)\n",
      "Estabelecimentos0 exportado!\n"
     ]
    }
   ],
   "source": [
    "for file in glob.glob('data/Estabelecimentos*.zip'):\n",
    "    filename = file.split('/')[-1].split('.')[0]\n",
    "    print(f'{filename}')\n",
    "    df_cnpj = pd.read_csv(f'{file}', \n",
    "                    compression='zip', \n",
    "                    sep=';', \n",
    "                    encoding_errors='replace', \n",
    "                    header=None, \n",
    "                    names=list(metadata.CAMPOS.keys()),\n",
    "                    dtype=metadata.CAMPOS,\n",
    "                    parse_dates=['data_situacao_cadastral'])\n",
    "    print(f'{df_cnpj.shape}')\n",
    "    df_cnpj = vaex.from_pandas(df_cnpj)\n",
    "    df_cnpj.export_hdf5(f'data/{filename}.hdf5')\n",
    "    del df_cnpj\n",
    "    print(f'{filename} exportado!')\n",
    "    gc.collect()\n",
    "    # break"
   ]
  },
  {
   "cell_type": "code",
   "execution_count": 36,
   "metadata": {},
   "outputs": [],
   "source": [
    "df_estabelecimentos = vaex.concat([vaex.open(df) for df in glob.glob('data/Estabelecimentos*.hdf5')])"
   ]
  },
  {
   "cell_type": "code",
   "execution_count": 37,
   "metadata": {},
   "outputs": [
    {
     "data": {
      "text/plain": [
       "(55813191, 30)"
      ]
     },
     "execution_count": 37,
     "metadata": {},
     "output_type": "execute_result"
    }
   ],
   "source": [
    "df_estabelecimentos.shape"
   ]
  },
  {
   "cell_type": "code",
   "execution_count": 38,
   "metadata": {},
   "outputs": [
    {
     "data": {
      "text/plain": [
       "8    55666179\n",
       "1      147012\n",
       "dtype: int64"
      ]
     },
     "execution_count": 38,
     "metadata": {},
     "output_type": "execute_result"
    }
   ],
   "source": [
    "df_estabelecimentos.data_situacao_cadastral.str.len().value_counts()\n"
   ]
  },
  {
   "attachments": {},
   "cell_type": "markdown",
   "metadata": {},
   "source": [
    "## Separar 2000 estabelecimentos do município de São Paulo \n"
   ]
  },
  {
   "cell_type": "code",
   "execution_count": 39,
   "metadata": {},
   "outputs": [],
   "source": [
    "df_municipios = pd.read_csv('data/Municipios.zip',\n",
    "                            compression='zip', \n",
    "                            sep=';', \n",
    "                            encoding_errors='replace',\n",
    "                            names=['cd_municipio', 'nome_municipio'])"
   ]
  },
  {
   "cell_type": "code",
   "execution_count": 40,
   "metadata": {},
   "outputs": [
    {
     "data": {
      "text/html": [
       "<div>\n",
       "<style scoped>\n",
       "    .dataframe tbody tr th:only-of-type {\n",
       "        vertical-align: middle;\n",
       "    }\n",
       "\n",
       "    .dataframe tbody tr th {\n",
       "        vertical-align: top;\n",
       "    }\n",
       "\n",
       "    .dataframe thead th {\n",
       "        text-align: right;\n",
       "    }\n",
       "</style>\n",
       "<table border=\"1\" class=\"dataframe\">\n",
       "  <thead>\n",
       "    <tr style=\"text-align: right;\">\n",
       "      <th></th>\n",
       "      <th>cd_municipio</th>\n",
       "      <th>nome_municipio</th>\n",
       "    </tr>\n",
       "  </thead>\n",
       "  <tbody>\n",
       "    <tr>\n",
       "      <th>4140</th>\n",
       "      <td>7107</td>\n",
       "      <td>SAO PAULO</td>\n",
       "    </tr>\n",
       "  </tbody>\n",
       "</table>\n",
       "</div>"
      ],
      "text/plain": [
       "      cd_municipio nome_municipio\n",
       "4140          7107      SAO PAULO"
      ]
     },
     "execution_count": 40,
     "metadata": {},
     "output_type": "execute_result"
    }
   ],
   "source": [
    "df_municipios[df_municipios.nome_municipio == 'SAO PAULO']"
   ]
  },
  {
   "cell_type": "code",
   "execution_count": 44,
   "metadata": {},
   "outputs": [],
   "source": [
    "df_estabelecimentos[df_estabelecimentos.logradouro_cod_municipio == '7107'].sample(2000)"
   ]
  },
  {
   "cell_type": "markdown",
   "metadata": {},
   "source": []
  },
  {
   "cell_type": "code",
   "execution_count": 17,
   "metadata": {},
   "outputs": [
    {
     "data": {
      "text/plain": [
       "Expression = logradouro_cod_municipio\n",
       "Length: 4,753,435 dtype: string (column)\n",
       "----------------------------------------\n",
       "      0  8985\n",
       "      1  6001\n",
       "      2  8105\n",
       "      3  7107\n",
       "      4  4553\n",
       "     ...     \n",
       "4753430  6001\n",
       "4753431  4123\n",
       "4753432  6403\n",
       "4753433  8687\n",
       "4753434  4733"
      ]
     },
     "execution_count": 17,
     "metadata": {},
     "output_type": "execute_result"
    }
   ],
   "source": [
    "df_cnpj.logradouro_cod_municipio"
   ]
  },
  {
   "cell_type": "code",
   "execution_count": null,
   "metadata": {},
   "outputs": [],
   "source": []
  }
 ],
 "metadata": {
  "kernelspec": {
   "display_name": "geo",
   "language": "python",
   "name": "python3"
  },
  "language_info": {
   "codemirror_mode": {
    "name": "ipython",
    "version": 3
   },
   "file_extension": ".py",
   "mimetype": "text/x-python",
   "name": "python",
   "nbconvert_exporter": "python",
   "pygments_lexer": "ipython3",
   "version": "3.10.6"
  },
  "orig_nbformat": 4
 },
 "nbformat": 4,
 "nbformat_minor": 2
}

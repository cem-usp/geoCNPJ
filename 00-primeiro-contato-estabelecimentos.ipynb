{
 "cells": [
  {
   "cell_type": "code",
   "execution_count": 4,
   "metadata": {},
   "outputs": [],
   "source": [
    "import pandas as pd\n",
    "import vaex\n",
    "import glob\n",
    "import gc\n",
    "import metadata"
   ]
  },
  {
   "cell_type": "code",
   "execution_count": 5,
   "metadata": {},
   "outputs": [
    {
     "name": "stdout",
     "output_type": "stream",
     "text": [
      "Estabelecimentos7\n",
      "(4753435, 30)\n",
      "Estabelecimentos7 exportado!\n",
      "Estabelecimentos8\n",
      "(4753435, 30)\n",
      "Estabelecimentos8 exportado!\n",
      "Estabelecimentos9\n",
      "(4753435, 30)\n",
      "Estabelecimentos9 exportado!\n",
      "Estabelecimentos2\n",
      "(4753435, 30)\n",
      "Estabelecimentos2 exportado!\n",
      "Estabelecimentos4\n",
      "(4753435, 30)\n",
      "Estabelecimentos4 exportado!\n",
      "Estabelecimentos3\n",
      "(4753435, 30)\n",
      "Estabelecimentos3 exportado!\n",
      "Estabelecimentos5\n",
      "(4753435, 30)\n",
      "Estabelecimentos5 exportado!\n",
      "Estabelecimentos1\n",
      "(4753435, 30)\n",
      "Estabelecimentos1 exportado!\n",
      "Estabelecimentos6\n",
      "(4753435, 30)\n",
      "Estabelecimentos6 exportado!\n",
      "Estabelecimentos0\n",
      "(13032276, 30)\n",
      "Estabelecimentos0 exportado!\n"
     ]
    }
   ],
   "source": [
    "for file in glob.glob('data/Estabelecimentos*.zip'):\n",
    "    filename = file.split('/')[-1].split('.')[0]\n",
    "    print(f'{filename}')\n",
    "    df_cnpj = pd.read_csv(f'{file}', \n",
    "                    compression='zip', \n",
    "                    sep=';', \n",
    "                    encoding_errors='replace', \n",
    "                    header=None, \n",
    "                    names=list(metadata.CAMPOS.keys()),\n",
    "                    dtype=metadata.CAMPOS,\n",
    "                    parse_dates=['data_situacao_cadastral'])\n",
    "    print(f'{df_cnpj.shape}')\n",
    "    df_cnpj = vaex.from_pandas(df_cnpj)\n",
    "    df_cnpj.export_hdf5(f'data/{filename}.hdf5')\n",
    "    del df_cnpj\n",
    "    print(f'{filename} exportado!')\n",
    "    gc.collect()\n",
    "    # break"
   ]
  },
  {
   "cell_type": "code",
   "execution_count": 6,
   "metadata": {},
   "outputs": [],
   "source": [
    "df_estabelecimentos = vaex.concat([vaex.open(df) for df in glob.glob('data/Estabelecimentos*.hdf5')])"
   ]
  },
  {
   "cell_type": "code",
   "execution_count": 8,
   "metadata": {},
   "outputs": [],
   "source": [
    "df_estabelecimentos.export_hdf5('data/brasil_cnpj.hdf5')"
   ]
  },
  {
   "cell_type": "code",
   "execution_count": 7,
   "metadata": {},
   "outputs": [
    {
     "data": {
      "text/plain": [
       "(55813191, 30)"
      ]
     },
     "execution_count": 7,
     "metadata": {},
     "output_type": "execute_result"
    }
   ],
   "source": [
    "df_estabelecimentos.shape"
   ]
  },
  {
   "cell_type": "code",
   "execution_count": 9,
   "metadata": {},
   "outputs": [],
   "source": [
    "!rm -Rf data/Estabelecimentos?.zip"
   ]
  },
  {
   "cell_type": "code",
   "execution_count": 10,
   "metadata": {},
   "outputs": [
    {
     "data": {
      "text/plain": [
       "8    55666179\n",
       "1      147012\n",
       "dtype: int64"
      ]
     },
     "execution_count": 10,
     "metadata": {},
     "output_type": "execute_result"
    }
   ],
   "source": [
    "df_estabelecimentos.data_situacao_cadastral.str.len().value_counts()\n"
   ]
  },
  {
   "attachments": {},
   "cell_type": "markdown",
   "metadata": {},
   "source": [
    "## Separar 2000 estabelecimentos do município de São Paulo \n"
   ]
  },
  {
   "cell_type": "code",
   "execution_count": 2,
   "metadata": {},
   "outputs": [],
   "source": [
    "df_municipios = pd.read_csv('data/Municipios.zip',\n",
    "                            compression='zip', \n",
    "                            sep=';', \n",
    "                            encoding_errors='replace',\n",
    "                            names=['cd_municipio', 'nome_municipio'])"
   ]
  },
  {
   "cell_type": "code",
   "execution_count": 3,
   "metadata": {},
   "outputs": [
    {
     "data": {
      "text/html": [
       "<div>\n",
       "<style scoped>\n",
       "    .dataframe tbody tr th:only-of-type {\n",
       "        vertical-align: middle;\n",
       "    }\n",
       "\n",
       "    .dataframe tbody tr th {\n",
       "        vertical-align: top;\n",
       "    }\n",
       "\n",
       "    .dataframe thead th {\n",
       "        text-align: right;\n",
       "    }\n",
       "</style>\n",
       "<table border=\"1\" class=\"dataframe\">\n",
       "  <thead>\n",
       "    <tr style=\"text-align: right;\">\n",
       "      <th></th>\n",
       "      <th>cd_municipio</th>\n",
       "      <th>nome_municipio</th>\n",
       "    </tr>\n",
       "  </thead>\n",
       "  <tbody>\n",
       "    <tr>\n",
       "      <th>0</th>\n",
       "      <td>1</td>\n",
       "      <td>GUAJARA-MIRIM</td>\n",
       "    </tr>\n",
       "    <tr>\n",
       "      <th>1</th>\n",
       "      <td>2</td>\n",
       "      <td>ALTO ALEGRE DOS PARECIS</td>\n",
       "    </tr>\n",
       "    <tr>\n",
       "      <th>2</th>\n",
       "      <td>3</td>\n",
       "      <td>PORTO VELHO</td>\n",
       "    </tr>\n",
       "    <tr>\n",
       "      <th>3</th>\n",
       "      <td>4</td>\n",
       "      <td>BURITIS</td>\n",
       "    </tr>\n",
       "    <tr>\n",
       "      <th>4</th>\n",
       "      <td>5</td>\n",
       "      <td>JI-PARANA</td>\n",
       "    </tr>\n",
       "    <tr>\n",
       "      <th>...</th>\n",
       "      <td>...</td>\n",
       "      <td>...</td>\n",
       "    </tr>\n",
       "    <tr>\n",
       "      <th>5566</th>\n",
       "      <td>9989</td>\n",
       "      <td>SERRA ALTA</td>\n",
       "    </tr>\n",
       "    <tr>\n",
       "      <th>5567</th>\n",
       "      <td>9991</td>\n",
       "      <td>TUNAPOLIS</td>\n",
       "    </tr>\n",
       "    <tr>\n",
       "      <th>5568</th>\n",
       "      <td>9993</td>\n",
       "      <td>GUARINOS</td>\n",
       "    </tr>\n",
       "    <tr>\n",
       "      <th>5569</th>\n",
       "      <td>9995</td>\n",
       "      <td>RIO QUENTE</td>\n",
       "    </tr>\n",
       "    <tr>\n",
       "      <th>5570</th>\n",
       "      <td>9997</td>\n",
       "      <td>CORONEL SAPUCAIA</td>\n",
       "    </tr>\n",
       "  </tbody>\n",
       "</table>\n",
       "<p>5571 rows × 2 columns</p>\n",
       "</div>"
      ],
      "text/plain": [
       "      cd_municipio           nome_municipio\n",
       "0                1            GUAJARA-MIRIM\n",
       "1                2  ALTO ALEGRE DOS PARECIS\n",
       "2                3              PORTO VELHO\n",
       "3                4                  BURITIS\n",
       "4                5                JI-PARANA\n",
       "...            ...                      ...\n",
       "5566          9989               SERRA ALTA\n",
       "5567          9991                TUNAPOLIS\n",
       "5568          9993                 GUARINOS\n",
       "5569          9995               RIO QUENTE\n",
       "5570          9997         CORONEL SAPUCAIA\n",
       "\n",
       "[5571 rows x 2 columns]"
      ]
     },
     "execution_count": 3,
     "metadata": {},
     "output_type": "execute_result"
    }
   ],
   "source": [
    "df_municipios"
   ]
  },
  {
   "cell_type": "code",
   "execution_count": 40,
   "metadata": {},
   "outputs": [
    {
     "data": {
      "text/html": [
       "<div>\n",
       "<style scoped>\n",
       "    .dataframe tbody tr th:only-of-type {\n",
       "        vertical-align: middle;\n",
       "    }\n",
       "\n",
       "    .dataframe tbody tr th {\n",
       "        vertical-align: top;\n",
       "    }\n",
       "\n",
       "    .dataframe thead th {\n",
       "        text-align: right;\n",
       "    }\n",
       "</style>\n",
       "<table border=\"1\" class=\"dataframe\">\n",
       "  <thead>\n",
       "    <tr style=\"text-align: right;\">\n",
       "      <th></th>\n",
       "      <th>cd_municipio</th>\n",
       "      <th>nome_municipio</th>\n",
       "    </tr>\n",
       "  </thead>\n",
       "  <tbody>\n",
       "    <tr>\n",
       "      <th>4140</th>\n",
       "      <td>7107</td>\n",
       "      <td>SAO PAULO</td>\n",
       "    </tr>\n",
       "  </tbody>\n",
       "</table>\n",
       "</div>"
      ],
      "text/plain": [
       "      cd_municipio nome_municipio\n",
       "4140          7107      SAO PAULO"
      ]
     },
     "execution_count": 40,
     "metadata": {},
     "output_type": "execute_result"
    }
   ],
   "source": [
    "df_municipios[df_municipios.nome_municipio == 'SAO PAULO']"
   ]
  },
  {
   "cell_type": "code",
   "execution_count": 46,
   "metadata": {},
   "outputs": [],
   "source": [
    "df_2000_sp = df_estabelecimentos[df_estabelecimentos.logradouro_cod_municipio == '7107'].sample(n=2000, random_state=13)"
   ]
  },
  {
   "cell_type": "code",
   "execution_count": 48,
   "metadata": {},
   "outputs": [],
   "source": [
    "df_2000_sp.export_csv('results/2000_estabelecimentos_aleatorios_municipio_sao_paulo.csv')"
   ]
  },
  {
   "cell_type": "markdown",
   "metadata": {},
   "source": []
  },
  {
   "cell_type": "code",
   "execution_count": null,
   "metadata": {},
   "outputs": [],
   "source": []
  }
 ],
 "metadata": {
  "kernelspec": {
   "display_name": "geo",
   "language": "python",
   "name": "python3"
  },
  "language_info": {
   "codemirror_mode": {
    "name": "ipython",
    "version": 3
   },
   "file_extension": ".py",
   "mimetype": "text/x-python",
   "name": "python",
   "nbconvert_exporter": "python",
   "pygments_lexer": "ipython3",
   "version": "3.10.6"
  },
  "orig_nbformat": 4
 },
 "nbformat": 4,
 "nbformat_minor": 2
}

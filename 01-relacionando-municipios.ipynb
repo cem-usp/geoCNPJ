{
 "cells": [
  {
   "cell_type": "code",
   "execution_count": 5,
   "metadata": {},
   "outputs": [],
   "source": [
    "import pandas as pd\n",
    "import geopandas as gpd\n",
    "import vaex\n",
    "import glob\n",
    "import gc\n",
    "import metadata"
   ]
  },
  {
   "cell_type": "code",
   "execution_count": 2,
   "metadata": {},
   "outputs": [],
   "source": [
    "df_estabelecimentos = vaex.open('data/brasil_cnpj.hdf5')"
   ]
  },
  {
   "cell_type": "code",
   "execution_count": 3,
   "metadata": {},
   "outputs": [
    {
     "data": {
      "text/plain": [
       "(55813191, 30)"
      ]
     },
     "execution_count": 3,
     "metadata": {},
     "output_type": "execute_result"
    }
   ],
   "source": [
    "df_estabelecimentos.shape"
   ]
  },
  {
   "cell_type": "code",
   "execution_count": 32,
   "metadata": {},
   "outputs": [],
   "source": [
    "df_municipios = pd.read_csv('data/Municipios.zip',\n",
    "                    compression='zip', \n",
    "                    sep=';', \n",
    "                    encoding_errors='replace',\n",
    "                    names=['cd_municipio', 'nome_municipio'])"
   ]
  },
  {
   "cell_type": "code",
   "execution_count": 33,
   "metadata": {},
   "outputs": [],
   "source": [
    "df_municipios.loc[:, 'nome_lower'] = df_municipios.nome_municipio.str.normalize('NFKD').str.encode('ascii', errors='ignore').str.decode('utf-8').str.lower()"
   ]
  },
  {
   "cell_type": "code",
   "execution_count": 39,
   "metadata": {},
   "outputs": [
    {
     "data": {
      "text/plain": [
       "(5571, 3)"
      ]
     },
     "execution_count": 39,
     "metadata": {},
     "output_type": "execute_result"
    }
   ],
   "source": [
    "df_municipios.shape"
   ]
  },
  {
   "cell_type": "code",
   "execution_count": 34,
   "metadata": {},
   "outputs": [],
   "source": [
    "gdf_municipios = gpd.read_file('data/BR_Municipios_2022.zip')"
   ]
  },
  {
   "cell_type": "code",
   "execution_count": 35,
   "metadata": {},
   "outputs": [],
   "source": [
    "gdf_municipios.loc[:, 'nome_lower'] = gdf_municipios.NM_MUN.str.normalize('NFKD').str.encode('ascii', errors='ignore').str.decode('utf-8').str.lower()"
   ]
  },
  {
   "cell_type": "code",
   "execution_count": 40,
   "metadata": {},
   "outputs": [
    {
     "data": {
      "text/plain": [
       "(5572, 6)"
      ]
     },
     "execution_count": 40,
     "metadata": {},
     "output_type": "execute_result"
    }
   ],
   "source": [
    "gdf_municipios.shape"
   ]
  },
  {
   "cell_type": "code",
   "execution_count": 43,
   "metadata": {},
   "outputs": [
    {
     "data": {
      "text/html": [
       "<div>\n",
       "<style scoped>\n",
       "    .dataframe tbody tr th:only-of-type {\n",
       "        vertical-align: middle;\n",
       "    }\n",
       "\n",
       "    .dataframe tbody tr th {\n",
       "        vertical-align: top;\n",
       "    }\n",
       "\n",
       "    .dataframe thead th {\n",
       "        text-align: right;\n",
       "    }\n",
       "</style>\n",
       "<table border=\"1\" class=\"dataframe\">\n",
       "  <thead>\n",
       "    <tr style=\"text-align: right;\">\n",
       "      <th></th>\n",
       "      <th>cd_municipio</th>\n",
       "      <th>nome_municipio</th>\n",
       "      <th>nome_lower</th>\n",
       "      <th>CD_MUN</th>\n",
       "      <th>NM_MUN</th>\n",
       "      <th>SIGLA_UF</th>\n",
       "      <th>AREA_KM2</th>\n",
       "      <th>geometry</th>\n",
       "    </tr>\n",
       "  </thead>\n",
       "  <tbody>\n",
       "    <tr>\n",
       "      <th>0</th>\n",
       "      <td>1</td>\n",
       "      <td>GUAJARA-MIRIM</td>\n",
       "      <td>guajara-mirim</td>\n",
       "      <td>1100106</td>\n",
       "      <td>Guajará-Mirim</td>\n",
       "      <td>RO</td>\n",
       "      <td>24856.877</td>\n",
       "      <td>POLYGON ((-64.94175 -11.99854, -64.94242 -11.9...</td>\n",
       "    </tr>\n",
       "    <tr>\n",
       "      <th>1</th>\n",
       "      <td>2</td>\n",
       "      <td>ALTO ALEGRE DOS PARECIS</td>\n",
       "      <td>alto alegre dos parecis</td>\n",
       "      <td>1100379</td>\n",
       "      <td>Alto Alegre dos Parecis</td>\n",
       "      <td>RO</td>\n",
       "      <td>3958.273</td>\n",
       "      <td>POLYGON ((-61.81662 -12.08739, -61.81651 -12.0...</td>\n",
       "    </tr>\n",
       "    <tr>\n",
       "      <th>2</th>\n",
       "      <td>3</td>\n",
       "      <td>PORTO VELHO</td>\n",
       "      <td>porto velho</td>\n",
       "      <td>1100205</td>\n",
       "      <td>Porto Velho</td>\n",
       "      <td>RO</td>\n",
       "      <td>34090.952</td>\n",
       "      <td>POLYGON ((-63.70728 -8.73729, -63.70740 -8.737...</td>\n",
       "    </tr>\n",
       "    <tr>\n",
       "      <th>3</th>\n",
       "      <td>4</td>\n",
       "      <td>BURITIS</td>\n",
       "      <td>buritis</td>\n",
       "      <td>1100452</td>\n",
       "      <td>Buritis</td>\n",
       "      <td>RO</td>\n",
       "      <td>3265.809</td>\n",
       "      <td>POLYGON ((-63.89813 -10.32813, -63.89771 -10.3...</td>\n",
       "    </tr>\n",
       "    <tr>\n",
       "      <th>4</th>\n",
       "      <td>4</td>\n",
       "      <td>BURITIS</td>\n",
       "      <td>buritis</td>\n",
       "      <td>3109303</td>\n",
       "      <td>Buritis</td>\n",
       "      <td>MG</td>\n",
       "      <td>5225.186</td>\n",
       "      <td>POLYGON ((-46.26060 -15.65935, -46.26068 -15.6...</td>\n",
       "    </tr>\n",
       "    <tr>\n",
       "      <th>...</th>\n",
       "      <td>...</td>\n",
       "      <td>...</td>\n",
       "      <td>...</td>\n",
       "      <td>...</td>\n",
       "      <td>...</td>\n",
       "      <td>...</td>\n",
       "      <td>...</td>\n",
       "      <td>...</td>\n",
       "    </tr>\n",
       "    <tr>\n",
       "      <th>6214</th>\n",
       "      <td>9989</td>\n",
       "      <td>SERRA ALTA</td>\n",
       "      <td>serra alta</td>\n",
       "      <td>4217550</td>\n",
       "      <td>Serra Alta</td>\n",
       "      <td>SC</td>\n",
       "      <td>90.564</td>\n",
       "      <td>POLYGON ((-53.03558 -26.74389, -53.03742 -26.7...</td>\n",
       "    </tr>\n",
       "    <tr>\n",
       "      <th>6215</th>\n",
       "      <td>9991</td>\n",
       "      <td>TUNAPOLIS</td>\n",
       "      <td>tunapolis</td>\n",
       "      <td>4218756</td>\n",
       "      <td>Tunápolis</td>\n",
       "      <td>SC</td>\n",
       "      <td>132.939</td>\n",
       "      <td>POLYGON ((-53.62788 -26.95116, -53.58276 -26.9...</td>\n",
       "    </tr>\n",
       "    <tr>\n",
       "      <th>6216</th>\n",
       "      <td>9993</td>\n",
       "      <td>GUARINOS</td>\n",
       "      <td>guarinos</td>\n",
       "      <td>5209457</td>\n",
       "      <td>Guarinos</td>\n",
       "      <td>GO</td>\n",
       "      <td>593.188</td>\n",
       "      <td>POLYGON ((-49.75407 -14.53005, -49.75418 -14.5...</td>\n",
       "    </tr>\n",
       "    <tr>\n",
       "      <th>6217</th>\n",
       "      <td>9995</td>\n",
       "      <td>RIO QUENTE</td>\n",
       "      <td>rio quente</td>\n",
       "      <td>5218789</td>\n",
       "      <td>Rio Quente</td>\n",
       "      <td>GO</td>\n",
       "      <td>244.655</td>\n",
       "      <td>POLYGON ((-48.74215 -17.76518, -48.74237 -17.7...</td>\n",
       "    </tr>\n",
       "    <tr>\n",
       "      <th>6218</th>\n",
       "      <td>9997</td>\n",
       "      <td>CORONEL SAPUCAIA</td>\n",
       "      <td>coronel sapucaia</td>\n",
       "      <td>5003157</td>\n",
       "      <td>Coronel Sapucaia</td>\n",
       "      <td>MS</td>\n",
       "      <td>1023.727</td>\n",
       "      <td>POLYGON ((-55.54608 -23.27484, -55.54398 -23.2...</td>\n",
       "    </tr>\n",
       "  </tbody>\n",
       "</table>\n",
       "<p>6219 rows × 8 columns</p>\n",
       "</div>"
      ],
      "text/plain": [
       "      cd_municipio           nome_municipio               nome_lower   CD_MUN  \\\n",
       "0                1            GUAJARA-MIRIM            guajara-mirim  1100106   \n",
       "1                2  ALTO ALEGRE DOS PARECIS  alto alegre dos parecis  1100379   \n",
       "2                3              PORTO VELHO              porto velho  1100205   \n",
       "3                4                  BURITIS                  buritis  1100452   \n",
       "4                4                  BURITIS                  buritis  3109303   \n",
       "...            ...                      ...                      ...      ...   \n",
       "6214          9989               SERRA ALTA               serra alta  4217550   \n",
       "6215          9991                TUNAPOLIS                tunapolis  4218756   \n",
       "6216          9993                 GUARINOS                 guarinos  5209457   \n",
       "6217          9995               RIO QUENTE               rio quente  5218789   \n",
       "6218          9997         CORONEL SAPUCAIA         coronel sapucaia  5003157   \n",
       "\n",
       "                       NM_MUN SIGLA_UF   AREA_KM2  \\\n",
       "0               Guajará-Mirim       RO  24856.877   \n",
       "1     Alto Alegre dos Parecis       RO   3958.273   \n",
       "2                 Porto Velho       RO  34090.952   \n",
       "3                     Buritis       RO   3265.809   \n",
       "4                     Buritis       MG   5225.186   \n",
       "...                       ...      ...        ...   \n",
       "6214               Serra Alta       SC     90.564   \n",
       "6215                Tunápolis       SC    132.939   \n",
       "6216                 Guarinos       GO    593.188   \n",
       "6217               Rio Quente       GO    244.655   \n",
       "6218         Coronel Sapucaia       MS   1023.727   \n",
       "\n",
       "                                               geometry  \n",
       "0     POLYGON ((-64.94175 -11.99854, -64.94242 -11.9...  \n",
       "1     POLYGON ((-61.81662 -12.08739, -61.81651 -12.0...  \n",
       "2     POLYGON ((-63.70728 -8.73729, -63.70740 -8.737...  \n",
       "3     POLYGON ((-63.89813 -10.32813, -63.89771 -10.3...  \n",
       "4     POLYGON ((-46.26060 -15.65935, -46.26068 -15.6...  \n",
       "...                                                 ...  \n",
       "6214  POLYGON ((-53.03558 -26.74389, -53.03742 -26.7...  \n",
       "6215  POLYGON ((-53.62788 -26.95116, -53.58276 -26.9...  \n",
       "6216  POLYGON ((-49.75407 -14.53005, -49.75418 -14.5...  \n",
       "6217  POLYGON ((-48.74215 -17.76518, -48.74237 -17.7...  \n",
       "6218  POLYGON ((-55.54608 -23.27484, -55.54398 -23.2...  \n",
       "\n",
       "[6219 rows x 8 columns]"
      ]
     },
     "execution_count": 43,
     "metadata": {},
     "output_type": "execute_result"
    }
   ],
   "source": [
    "df_municipios.merge(gdf_municipios, on='nome_lower', how='inner')"
   ]
  },
  {
   "cell_type": "code",
   "execution_count": 44,
   "metadata": {},
   "outputs": [],
   "source": [
    "## Existem nomes de municípios repetidos em mais de um estado"
   ]
  },
  {
   "cell_type": "code",
   "execution_count": null,
   "metadata": {},
   "outputs": [],
   "source": []
  }
 ],
 "metadata": {
  "kernelspec": {
   "display_name": "geo",
   "language": "python",
   "name": "python3"
  },
  "language_info": {
   "codemirror_mode": {
    "name": "ipython",
    "version": 3
   },
   "file_extension": ".py",
   "mimetype": "text/x-python",
   "name": "python",
   "nbconvert_exporter": "python",
   "pygments_lexer": "ipython3",
   "version": "3.10.6"
  },
  "orig_nbformat": 4
 },
 "nbformat": 4,
 "nbformat_minor": 2
}

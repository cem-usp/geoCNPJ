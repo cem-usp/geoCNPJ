{
 "cells": [
  {
   "cell_type": "code",
   "execution_count": 1,
   "metadata": {},
   "outputs": [],
   "source": [
    "import pandas as pd\n",
    "import geopandas as gpd\n",
    "import vaex\n",
    "import glob\n",
    "import gc\n",
    "import metadata\n",
    "import requests\n",
    "import datetime\n",
    "# import concurrent.futures\n",
    "from multiprocessing import Pool"
   ]
  },
  {
   "cell_type": "code",
   "execution_count": 2,
   "metadata": {},
   "outputs": [],
   "source": [
    "CNAES_alimentacao = [\n",
    "    \"4711301\",\n",
    "    \"4711302\",\n",
    "    \"4712100\",\n",
    "    \"4721102\",\n",
    "    \"4721103\",\n",
    "    \"4721104\",\n",
    "    \"4722901\",\n",
    "    \"4722902\",\n",
    "    \"4724500\",\n",
    "    \"4729602\",\n",
    "    \"4729699\",\n",
    "    \"5611201\",\n",
    "    \"5611202\",\n",
    "    \"5611203\",\n",
    "    \"5612100\",\n",
    "    \"5620103\",\n",
    "    \"5620104\"\n",
    "] \n",
    "# Segundo o Estudo_Técnico_Mapeamento_Desertos_Alimentares\n",
    "# https://aplicacoes.mds.gov.br/sagirmps/noticias/arquivos/files/Estudo_T%C3%A9cnico_Mapeamento_Desertos_Alimentares_Final_30_10_2019(1).pdf"
   ]
  },
  {
   "cell_type": "code",
   "execution_count": 3,
   "metadata": {},
   "outputs": [],
   "source": [
    "df_estabelecimentos = vaex.open('data/brasil_cnpj.hdf5')"
   ]
  },
  {
   "cell_type": "code",
   "execution_count": 4,
   "metadata": {},
   "outputs": [
    {
     "data": {
      "text/plain": [
       "(55813191, 30)"
      ]
     },
     "execution_count": 4,
     "metadata": {},
     "output_type": "execute_result"
    }
   ],
   "source": [
    "df_estabelecimentos.shape"
   ]
  },
  {
   "cell_type": "code",
   "execution_count": 5,
   "metadata": {},
   "outputs": [
    {
     "data": {
      "text/plain": [
       "missing                   916949\n",
       "RUA                     36640622\n",
       "AVENIDA                 10430240\n",
       "ESTRADA                  1121829\n",
       "RODOVIA                   906033\n",
       "                          ...   \n",
       "ESCADA DE PEDRA                1\n",
       "5 PARALELA                     1\n",
       "T�NEL                          1\n",
       "5  ALTO                        1\n",
       "PASSAGEM SUBTERR�NEA           1\n",
       "Length: 398, dtype: int64"
      ]
     },
     "execution_count": 5,
     "metadata": {},
     "output_type": "execute_result"
    }
   ],
   "source": [
    "df_estabelecimentos.logradouro_tipo.value_counts()"
   ]
  },
  {
   "cell_type": "code",
   "execution_count": 6,
   "metadata": {},
   "outputs": [],
   "source": [
    "df_municipios = vaex.read_csv('data/Municipios.zip',\n",
    "                    compression='zip', \n",
    "                    sep=';', \n",
    "                    encoding_errors='replace',\n",
    "                    names=['cd_municipio', 'nome_municipio'])"
   ]
  },
  {
   "cell_type": "code",
   "execution_count": 7,
   "metadata": {},
   "outputs": [],
   "source": [
    "## TODO\n",
    "# preencher municipio\n",
    "# df_municipios.cd_municipio.str.pad(4, side='right', fillchar='0')\n",
    "df_municipios['cd_municipio_str'] = df_municipios.cd_municipio.to_string().str.pad(4, side='left', fillchar='0')"
   ]
  },
  {
   "cell_type": "code",
   "execution_count": 8,
   "metadata": {},
   "outputs": [
    {
     "data": {
      "text/plain": [
       "(55813191, 30)"
      ]
     },
     "execution_count": 8,
     "metadata": {},
     "output_type": "execute_result"
    }
   ],
   "source": [
    "df_estabelecimentos.shape"
   ]
  },
  {
   "cell_type": "code",
   "execution_count": 9,
   "metadata": {},
   "outputs": [],
   "source": [
    "df_estabelecimentos = df_estabelecimentos.join(df_municipios, left_on='logradouro_cod_municipio', right_on='cd_municipio_str')"
   ]
  },
  {
   "cell_type": "code",
   "execution_count": 10,
   "metadata": {},
   "outputs": [],
   "source": [
    "df_alimentacao_br = df_estabelecimentos[df_estabelecimentos.cnae_principal.isin(CNAES_alimentacao)]"
   ]
  },
  {
   "cell_type": "code",
   "execution_count": 14,
   "metadata": {},
   "outputs": [
    {
     "data": {
      "text/plain": [
       "08    3657328\n",
       "02    2440648\n",
       "04    1273923\n",
       "03      28410\n",
       "01      11452\n",
       "dtype: int64"
      ]
     },
     "execution_count": 14,
     "metadata": {},
     "output_type": "execute_result"
    }
   ],
   "source": [
    "# CÓDIGO DA SITUAÇÃO CADASTRAL:\n",
    "# 01 – NULA\n",
    "# 2 – ATIVA\n",
    "# 3 – SUSPENSA\n",
    "# 4 – INAPTA\n",
    "# 08 – BAIXADA\n",
    "df_alimentacao_br.situacao_cadastral.value_counts()"
   ]
  },
  {
   "cell_type": "code",
   "execution_count": 15,
   "metadata": {},
   "outputs": [],
   "source": [
    "ativos = (df_alimentacao_br.situacao_cadastral == '02')"
   ]
  },
  {
   "cell_type": "code",
   "execution_count": 17,
   "metadata": {},
   "outputs": [],
   "source": [
    "df_alimentacao_br = df_alimentacao_br[ativos]"
   ]
  },
  {
   "cell_type": "code",
   "execution_count": 18,
   "metadata": {},
   "outputs": [
    {
     "data": {
      "text/plain": [
       "(2440648, 33)"
      ]
     },
     "execution_count": 18,
     "metadata": {},
     "output_type": "execute_result"
    }
   ],
   "source": [
    "df_alimentacao_br.shape"
   ]
  },
  {
   "cell_type": "code",
   "execution_count": 19,
   "metadata": {},
   "outputs": [],
   "source": [
    "df_alimentacao_br['endereco'] = df_alimentacao_br.logradouro_tipo + ' ' + df_alimentacao_br.logradouro_nome + ', ' + df_alimentacao_br.logradouro_numero + ', ' + df_alimentacao_br['nome_municipio'] + ', ' + df_alimentacao_br['logradouro_uf']"
   ]
  },
  {
   "cell_type": "code",
   "execution_count": 20,
   "metadata": {},
   "outputs": [],
   "source": [
    "df_alimentacao_br['cnpj'] = df_alimentacao_br.cnpj_basico + '/' + df_alimentacao_br.cnpj_ordem + '-' + df_alimentacao_br.cnpj_dv"
   ]
  },
  {
   "cell_type": "code",
   "execution_count": 21,
   "metadata": {},
   "outputs": [],
   "source": [
    "df_alimentacao_br = df_alimentacao_br[df_alimentacao_br.endereco.str.len() > 5]"
   ]
  },
  {
   "cell_type": "code",
   "execution_count": 22,
   "metadata": {},
   "outputs": [],
   "source": [
    "# df_alimentacao_br_sp = df_alimentacao_br[df_alimentacao_br.logradouro_cod_municipio == '7107']"
   ]
  },
  {
   "cell_type": "code",
   "execution_count": 23,
   "metadata": {},
   "outputs": [],
   "source": [
    "# df_alimentacao_br.shape"
   ]
  },
  {
   "cell_type": "code",
   "execution_count": null,
   "metadata": {},
   "outputs": [],
   "source": []
  },
  {
   "cell_type": "code",
   "execution_count": 24,
   "metadata": {},
   "outputs": [],
   "source": [
    "def locate(cnpj, endereco, cnae_principal, cnaes_segundarios):\n",
    "    params = {\n",
    "        'size':'1', \n",
    "        'text': endereco,\n",
    "    }\n",
    "    \n",
    "    geolocator = requests.get(url='http://localhost:4000/v1/search', params=params)\n",
    "    \n",
    "    if geolocator.json()['features']:\n",
    "        long = geolocator.json()['features'][0]['geometry']['coordinates'][0]\n",
    "        lat = geolocator.json()['features'][0]['geometry']['coordinates'][1]\n",
    "        confidence = geolocator.json()['features'][0]['properties']['confidence']\n",
    "        return cnpj, long, lat, confidence, cnae_principal, cnaes_segundarios\n",
    "    else:\n",
    "        return None\n",
    "    "
   ]
  },
  {
   "cell_type": "code",
   "execution_count": 25,
   "metadata": {},
   "outputs": [
    {
     "data": {
      "text/plain": [
       "[('61901229/0001-91', 'RUA PANTOJO, 1026, SAO PAULO, SP', '4729699', None),\n",
       " ('41273749/0001-90', 'RUA 54, 2270, TERESINA, PI', '4712100', None),\n",
       " ('82225053/0001-75', 'RUA SAMUEL CEZAR, 1100, CURITIBA, PR', '4711301', None),\n",
       " ('82237199/0001-30',\n",
       "  'AVENIDA LUCILIO DE HELD, 1045, MARINGA, PR',\n",
       "  '5611203',\n",
       "  None),\n",
       " ('62240486/0001-92',\n",
       "  'RUA CEL BENTO BICUDO, 1191, SAO PAULO, SP',\n",
       "  '4722901',\n",
       "  None)]"
      ]
     },
     "execution_count": 25,
     "metadata": {},
     "output_type": "execute_result"
    }
   ],
   "source": [
    "list(zip(df_alimentacao_br[:5].cnpj.tolist(), \n",
    "         df_alimentacao_br[:5].endereco.tolist(),\n",
    "         df_alimentacao_br[:5].cnae_principal.tolist(),\n",
    "         df_alimentacao_br[:5].cnae_secundario.tolist()))"
   ]
  },
  {
   "cell_type": "code",
   "execution_count": 26,
   "metadata": {},
   "outputs": [],
   "source": [
    "cnpj, long, lat, confidence, cnae_principal, cnae_secundario = locate('61745626/0001-11', 'RUA SAO POMPONIO, 298, SAO PAULO, SP', '4721102', None)"
   ]
  },
  {
   "cell_type": "code",
   "execution_count": 27,
   "metadata": {},
   "outputs": [
    {
     "data": {
      "text/plain": [
       "('61745626/0001-11', -46.576816, -23.570642, 1)"
      ]
     },
     "execution_count": 27,
     "metadata": {},
     "output_type": "execute_result"
    }
   ],
   "source": [
    "cnpj, long, lat, confidence"
   ]
  },
  {
   "cell_type": "code",
   "execution_count": 28,
   "metadata": {},
   "outputs": [],
   "source": [
    "with Pool(12) as p:\n",
    "    results = p.starmap(locate, zip(df_alimentacao_br.cnpj.tolist(), \n",
    "                                    df_alimentacao_br.endereco.tolist(),\n",
    "                                    df_alimentacao_br.cnae_principal.tolist(),\n",
    "                                    df_alimentacao_br.cnae_secundario.tolist()))"
   ]
  },
  {
   "cell_type": "code",
   "execution_count": 29,
   "metadata": {},
   "outputs": [],
   "source": [
    "cnpjs, lats, longs, confidences, cnaes_principal, cnaes_secundario = [], [], [], [], [], []\n",
    "\n",
    "for result in results:\n",
    "    if result.__class__ == tuple:\n",
    "        cnpjs.append(result[0])\n",
    "        longs.append(result[1])\n",
    "        lats.append(result[2])\n",
    "        confidences.append(result[3])\n",
    "        cnaes_principal.append(result[4])\n",
    "        cnaes_secundario.append(result[5])"
   ]
  },
  {
   "cell_type": "code",
   "execution_count": 30,
   "metadata": {},
   "outputs": [
    {
     "data": {
      "text/plain": [
       "(2425121, 2425121, 2425121, 2425121, 2425121, 2425121)"
      ]
     },
     "execution_count": 30,
     "metadata": {},
     "output_type": "execute_result"
    }
   ],
   "source": [
    "len(cnpjs), len(longs), len(lats), len(confidences), len(cnaes_principal), len(cnaes_secundario)"
   ]
  },
  {
   "cell_type": "code",
   "execution_count": 31,
   "metadata": {},
   "outputs": [],
   "source": [
    "df_geocoded = vaex.from_dict({'cnpj':cnpjs, \n",
    "                                 'long':longs, \n",
    "                                 'lat':lats, \n",
    "                                 'confidence':confidences,\n",
    "                                 'cnae_principal':cnaes_principal,\n",
    "                                 'cnae_secundario':cnaes_secundario\n",
    "                                 })"
   ]
  },
  {
   "cell_type": "code",
   "execution_count": 32,
   "metadata": {},
   "outputs": [
    {
     "data": {
      "text/plain": [
       "cnpj                string\n",
       "long               float64\n",
       "lat                float64\n",
       "confidence         float64\n",
       "cnae_principal      string\n",
       "cnae_secundario     string\n",
       "dtype: object"
      ]
     },
     "execution_count": 32,
     "metadata": {},
     "output_type": "execute_result"
    }
   ],
   "source": [
    "df_geocoded.dtypes"
   ]
  },
  {
   "cell_type": "code",
   "execution_count": 33,
   "metadata": {},
   "outputs": [
    {
     "data": {
      "text/plain": [
       "(2425121, 6)"
      ]
     },
     "execution_count": 33,
     "metadata": {},
     "output_type": "execute_result"
    }
   ],
   "source": [
    "df_geocoded.shape"
   ]
  },
  {
   "cell_type": "code",
   "execution_count": 34,
   "metadata": {},
   "outputs": [
    {
     "data": {
      "text/plain": [
       "0.8    909265\n",
       "0.6    884897\n",
       "1.0    628978\n",
       "0.4      1926\n",
       "0.3        55\n",
       "dtype: int64"
      ]
     },
     "execution_count": 34,
     "metadata": {},
     "output_type": "execute_result"
    }
   ],
   "source": [
    "df_geocoded.confidence.value_counts()"
   ]
  },
  {
   "cell_type": "code",
   "execution_count": 35,
   "metadata": {},
   "outputs": [],
   "source": [
    "gdf_estabelecimentos_alimentacao_sampa = gpd.GeoDataFrame(\n",
    "    df_geocoded.to_pandas_df(), geometry=gpd.points_from_xy(df_geocoded.to_pandas_df().long, df_geocoded.to_pandas_df().lat), crs=\"EPSG:4326\"\n",
    ")"
   ]
  },
  {
   "cell_type": "code",
   "execution_count": 36,
   "metadata": {},
   "outputs": [],
   "source": [
    "gdf_estabelecimentos_alimentacao_sampa.to_file('results/estabelecimentos_alimentares_BR_all.gpkg', driver='GPKG')"
   ]
  },
  {
   "cell_type": "code",
   "execution_count": 37,
   "metadata": {},
   "outputs": [
    {
     "data": {
      "text/plain": [
       "(2425121, 7)"
      ]
     },
     "execution_count": 37,
     "metadata": {},
     "output_type": "execute_result"
    }
   ],
   "source": [
    "gdf_estabelecimentos_alimentacao_sampa.shape"
   ]
  },
  {
   "cell_type": "code",
   "execution_count": null,
   "metadata": {},
   "outputs": [],
   "source": []
  }
 ],
 "metadata": {
  "kernelspec": {
   "display_name": "geo",
   "language": "python",
   "name": "python3"
  },
  "language_info": {
   "codemirror_mode": {
    "name": "ipython",
    "version": 3
   },
   "file_extension": ".py",
   "mimetype": "text/x-python",
   "name": "python",
   "nbconvert_exporter": "python",
   "pygments_lexer": "ipython3",
   "version": "3.10.6"
  },
  "orig_nbformat": 4,
  "vscode": {
   "interpreter": {
    "hash": "eb8c1f4e76c40be48a3cc0fee87511a472a8e68107d09d543228af74479ae7aa"
   }
  }
 },
 "nbformat": 4,
 "nbformat_minor": 2
}

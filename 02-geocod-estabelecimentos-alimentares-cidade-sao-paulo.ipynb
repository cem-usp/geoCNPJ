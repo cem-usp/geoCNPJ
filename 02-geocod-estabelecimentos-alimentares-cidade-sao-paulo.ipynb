{
 "cells": [
  {
   "cell_type": "code",
   "execution_count": 39,
   "metadata": {},
   "outputs": [],
   "source": [
    "import pandas as pd\n",
    "import geopandas as gpd\n",
    "import vaex\n",
    "import glob\n",
    "import gc\n",
    "import metadata\n",
    "import requests\n",
    "import datetime\n",
    "# import concurrent.futures\n",
    "from multiprocessing import Pool"
   ]
  },
  {
   "cell_type": "code",
   "execution_count": 40,
   "metadata": {},
   "outputs": [],
   "source": [
    "CNAES_alimentacao = [\n",
    "    \"4711301\",\n",
    "    \"4711302\",\n",
    "    \"4712100\",\n",
    "    \"4721102\",\n",
    "    \"4721103\",\n",
    "    \"4721104\",\n",
    "    \"4722901\",\n",
    "    \"4722902\",\n",
    "    \"4724500\",\n",
    "    \"4729602\",\n",
    "    \"4729699\",\n",
    "    \"5611201\",\n",
    "    \"5611202\",\n",
    "    \"5611203\",\n",
    "    \"5612100\",\n",
    "    \"5620103\",\n",
    "    \"5620104\"\n",
    "] \n",
    "# Segundo o Estudo_Técnico_Mapeamento_Desertos_Alimentares\n",
    "# https://aplicacoes.mds.gov.br/sagirmps/noticias/arquivos/files/Estudo_T%C3%A9cnico_Mapeamento_Desertos_Alimentares_Final_30_10_2019(1).pdf"
   ]
  },
  {
   "cell_type": "code",
   "execution_count": 41,
   "metadata": {},
   "outputs": [],
   "source": [
    "df_estabelecimentos = vaex.open('data/brasil_cnpj.hdf5')"
   ]
  },
  {
   "cell_type": "code",
   "execution_count": 42,
   "metadata": {},
   "outputs": [
    {
     "data": {
      "text/plain": [
       "(55813191, 30)"
      ]
     },
     "execution_count": 42,
     "metadata": {},
     "output_type": "execute_result"
    }
   ],
   "source": [
    "df_estabelecimentos.shape"
   ]
  },
  {
   "cell_type": "code",
   "execution_count": 43,
   "metadata": {},
   "outputs": [
    {
     "data": {
      "text/plain": [
       "missing         916949\n",
       "RUA           36640622\n",
       "AVENIDA       10430240\n",
       "ESTRADA        1121829\n",
       "RODOVIA         906033\n",
       "                ...   \n",
       "3  ALTO              1\n",
       "5  BECO              1\n",
       "2 PARALELA           1\n",
       "VIELA PART           1\n",
       "T�NEL                1\n",
       "Length: 398, dtype: int64"
      ]
     },
     "execution_count": 43,
     "metadata": {},
     "output_type": "execute_result"
    }
   ],
   "source": [
    "df_estabelecimentos.logradouro_tipo.value_counts()"
   ]
  },
  {
   "cell_type": "code",
   "execution_count": 44,
   "metadata": {},
   "outputs": [],
   "source": [
    "df_municipios = vaex.read_csv('data/Municipios.zip',\n",
    "                    compression='zip', \n",
    "                    sep=';', \n",
    "                    encoding_errors='replace',\n",
    "                    names=['cd_municipio', 'nome_municipio'])"
   ]
  },
  {
   "cell_type": "code",
   "execution_count": 45,
   "metadata": {},
   "outputs": [],
   "source": [
    "## TODO\n",
    "# preencher municipio\n",
    "# df_municipios.cd_municipio.str.pad(4, side='right', fillchar='0')\n",
    "df_municipios['cd_municipio_str'] = df_municipios.cd_municipio.to_string().str.pad(4, side='left', fillchar='0')"
   ]
  },
  {
   "cell_type": "code",
   "execution_count": 46,
   "metadata": {},
   "outputs": [
    {
     "data": {
      "text/plain": [
       "(55813191, 30)"
      ]
     },
     "execution_count": 46,
     "metadata": {},
     "output_type": "execute_result"
    }
   ],
   "source": [
    "df_estabelecimentos.shape"
   ]
  },
  {
   "cell_type": "code",
   "execution_count": 47,
   "metadata": {},
   "outputs": [],
   "source": [
    "df_estabelecimentos = df_estabelecimentos.join(df_municipios, left_on='logradouro_cod_municipio', right_on='cd_municipio_str')"
   ]
  },
  {
   "cell_type": "code",
   "execution_count": 48,
   "metadata": {},
   "outputs": [],
   "source": [
    "df_alimentacao_br = df_estabelecimentos[df_estabelecimentos.cnae_principal.isin(CNAES_alimentacao)]"
   ]
  },
  {
   "cell_type": "code",
   "execution_count": 49,
   "metadata": {},
   "outputs": [],
   "source": [
    "df_alimentacao_br['endereco'] = df_alimentacao_br.logradouro_tipo + ' ' + df_alimentacao_br.logradouro_nome + ', ' + df_alimentacao_br.logradouro_numero + ', ' + df_alimentacao_br['nome_municipio'] + ', ' + df_alimentacao_br['logradouro_uf']"
   ]
  },
  {
   "cell_type": "code",
   "execution_count": 50,
   "metadata": {},
   "outputs": [],
   "source": [
    "df_alimentacao_br['cnpj'] = df_alimentacao_br.cnpj_basico + '/' + df_alimentacao_br.cnpj_ordem + '-' + df_alimentacao_br.cnpj_dv"
   ]
  },
  {
   "cell_type": "code",
   "execution_count": 51,
   "metadata": {},
   "outputs": [],
   "source": [
    "df_alimentacao_br = df_alimentacao_br[df_alimentacao_br.endereco.str.len() > 5]"
   ]
  },
  {
   "cell_type": "code",
   "execution_count": 52,
   "metadata": {},
   "outputs": [
    {
     "data": {
      "text/plain": [
       "(7287236, 35)"
      ]
     },
     "execution_count": 52,
     "metadata": {},
     "output_type": "execute_result"
    }
   ],
   "source": [
    "df_alimentacao_br.shape"
   ]
  },
  {
   "cell_type": "code",
   "execution_count": 74,
   "metadata": {},
   "outputs": [],
   "source": [
    "def locate(cnpj, endereco):\n",
    "    params = {\n",
    "        'size':'1', \n",
    "        'text': endereco,\n",
    "    }\n",
    "    \n",
    "    geolocator = requests.get(url='http://localhost:4000/v1/search', params=params)\n",
    "    \n",
    "    if geolocator.json()['features']:\n",
    "        long = geolocator.json()['features'][0]['geometry']['coordinates'][0]\n",
    "        lat = geolocator.json()['features'][0]['geometry']['coordinates'][1]\n",
    "        confidence = geolocator.json()['features'][0]['properties']['confidence']\n",
    "        return cnpj, long, lat, confidence\n",
    "    else:\n",
    "        return None\n",
    "    "
   ]
  },
  {
   "cell_type": "code",
   "execution_count": 75,
   "metadata": {},
   "outputs": [
    {
     "data": {
      "text/plain": [
       "[('41073073/0001-90', 'PRACA DOM EXPEDITO LOPES, 28, CACHOEIRINHA, PE'),\n",
       " ('04004834/0001-26', 'RUA BARAO SAO DOMINGOS, SN, MANAUS, AM'),\n",
       " ('04006281/0001-40', 'RUA SAO BENTO, 1072, ARARAQUARA, SP'),\n",
       " ('41085093/0001-81',\n",
       "  'AVENIDA AGOSTINHO SILVESTRE, 52, JABOATAO DOS GUARARAPES, PE'),\n",
       " ('81687634/0001-66', 'AVENIDA SENADOR SOUZA NAVES, SN, CRUZEIRO DO SUL, PR')]"
      ]
     },
     "execution_count": 75,
     "metadata": {},
     "output_type": "execute_result"
    }
   ],
   "source": [
    "list(zip(df_alimentacao_br[:5].cnpj.tolist(), df_alimentacao_br[:5].endereco.tolist()))"
   ]
  },
  {
   "cell_type": "code",
   "execution_count": 76,
   "metadata": {},
   "outputs": [
    {
     "data": {
      "text/plain": [
       "('41073073/0001-90', -36.2362169, -8.4877925, 0.8)"
      ]
     },
     "execution_count": 76,
     "metadata": {},
     "output_type": "execute_result"
    }
   ],
   "source": [
    "locate('41073073/0001-90', 'PRACA DOM EXPEDITO LOPES, 28, CACHOEIRINHA, PE')"
   ]
  },
  {
   "cell_type": "code",
   "execution_count": 82,
   "metadata": {},
   "outputs": [],
   "source": [
    "# cnpj, lat, long, confidence = [], [], [], []\n",
    "now = datetime.datetime.now()\n",
    "futures = []\n",
    "\n",
    "with Pool(12) as p:\n",
    "    seila = p.starmap(locate, zip(df_alimentacao_br[:1000000].cnpj.tolist(), df_alimentacao_br[:1000000].endereco.tolist()))\n",
    "\n",
    "\n",
    "# with concurrent.futures.ProcessPoolExecutor(max_workers=11) as executor:\n",
    "#     for i, row in df_alimentacao_br[:5000].iterrows():\n",
    "#         futures.append(executor.submit(locate(row, i)))\n",
    "\n",
    "    \n",
    "\n",
    "    # break"
   ]
  },
  {
   "cell_type": "code",
   "execution_count": 83,
   "metadata": {},
   "outputs": [
    {
     "data": {
      "text/plain": [
       "1000000"
      ]
     },
     "execution_count": 83,
     "metadata": {},
     "output_type": "execute_result"
    }
   ],
   "source": [
    "len(seila)"
   ]
  },
  {
   "cell_type": "code",
   "execution_count": 7,
   "metadata": {},
   "outputs": [
    {
     "data": {
      "text/plain": [
       "10"
      ]
     },
     "execution_count": 7,
     "metadata": {},
     "output_type": "execute_result"
    }
   ],
   "source": [
    "{'cnpj':cnpj, 'long':long, 'lat':lat, 'confidence':confidence}"
   ]
  },
  {
   "cell_type": "code",
   "execution_count": 2,
   "metadata": {},
   "outputs": [],
   "source": [
    "# geolocator = Pelias(domain='http://localhost:4000/v1')"
   ]
  },
  {
   "cell_type": "code",
   "execution_count": 5,
   "metadata": {},
   "outputs": [],
   "source": [
    "# geolocator.geocode('Av. Paulista, 900, São Paulo, SP')"
   ]
  },
  {
   "cell_type": "code",
   "execution_count": 7,
   "metadata": {},
   "outputs": [],
   "source": [
    "df_estabelecimentos_sp = df_estabelecimentos[df_estabelecimentos.logradouro_cod_municipio == '7107']"
   ]
  },
  {
   "cell_type": "code",
   "execution_count": 40,
   "metadata": {},
   "outputs": [
    {
     "data": {
      "text/plain": [
       "(4934682, 30)"
      ]
     },
     "execution_count": 40,
     "metadata": {},
     "output_type": "execute_result"
    }
   ],
   "source": [
    "df_estabelecimentos_sp.shape"
   ]
  },
  {
   "cell_type": "code",
   "execution_count": 19,
   "metadata": {},
   "outputs": [],
   "source": [
    "df_estab_alimentacao_sampa = df_estabelecimentos_sp[df_estabelecimentos_sp.cnae_principal.isin(CNAES_alimentacao)]"
   ]
  },
  {
   "cell_type": "code",
   "execution_count": 20,
   "metadata": {},
   "outputs": [
    {
     "data": {
      "text/html": [
       "<table>\n",
       "<thead>\n",
       "<tr><th>#                                  </th><th>cnpj_basico  </th><th>cnpj_ordem  </th><th>cnpj_dv  </th><th>matriz_filial  </th><th>nome_fantasia           </th><th>situacao_cadastral  </th><th>data_situacao_cadastral  </th><th>motivo_situacao_cadastral  </th><th>nome_cidade_no_exterior  </th><th>pais  </th><th>data_inicio_atividade  </th><th>cnae_principal  </th><th>cnae_secundario        </th><th>logradouro_tipo  </th><th>logradouro_nome       </th><th>logradouro_numero  </th><th>logradouro_complemento  </th><th>logradouro_bairro               </th><th>logradouro_cep  </th><th>logradouro_uf  </th><th>logradouro_cod_municipio  </th><th>ddd1  </th><th>telefone1  </th><th>ddd2  </th><th>telefone2  </th><th>ddd_fax  </th><th>fax  </th><th>email                  </th><th>situacao_especial  </th><th>data_situacao_especial  </th></tr>\n",
       "</thead>\n",
       "<tbody>\n",
       "<tr><td><i style='opacity: 0.6'>0</i>      </td><td>61745626     </td><td>0001        </td><td>11       </td><td>1              </td><td>--                      </td><td>08                  </td><td>20081231                 </td><td>71                         </td><td>--                       </td><td>--    </td><td>19891013               </td><td>4721102         </td><td>--                     </td><td>RUA              </td><td>SAO POMPONIO          </td><td>298                </td><td>A                       </td><td>ALTO DA MOOCA                   </td><td>03189210        </td><td>SP             </td><td>7107                      </td><td>--    </td><td>--         </td><td>--    </td><td>--         </td><td>--       </td><td>--   </td><td>--                     </td><td>--                 </td><td>--                      </td></tr>\n",
       "<tr><td><i style='opacity: 0.6'>1</i>      </td><td>61901229     </td><td>0001        </td><td>91       </td><td>1              </td><td>--                      </td><td>02                  </td><td>20051103                 </td><td>00                         </td><td>--                       </td><td>--    </td><td>19680108               </td><td>4729699         </td><td>--                     </td><td>RUA              </td><td>PANTOJO               </td><td>1026               </td><td>--                      </td><td>AGUA RAZA                       </td><td>03343000        </td><td>SP             </td><td>7107                      </td><td>--    </td><td>--         </td><td>--    </td><td>--         </td><td>--       </td><td>--   </td><td>--                     </td><td>--                 </td><td>--                      </td></tr>\n",
       "<tr><td><i style='opacity: 0.6'>2</i>      </td><td>61903282     </td><td>0001        </td><td>21       </td><td>1              </td><td>--                      </td><td>08                  </td><td>20150209                 </td><td>73                         </td><td>--                       </td><td>--    </td><td>19891110               </td><td>5611201         </td><td>--                     </td><td>ESTRADA          </td><td>DO CAMPO LIMPO        </td><td>3244               </td><td>--                      </td><td>CAMPO LIMPO                     </td><td>05787001        </td><td>SP             </td><td>7107                      </td><td>--    </td><td>--         </td><td>--    </td><td>--         </td><td>--       </td><td>--   </td><td>--                     </td><td>--                 </td><td>--                      </td></tr>\n",
       "<tr><td><i style='opacity: 0.6'>3</i>      </td><td>61987707     </td><td>0001        </td><td>28       </td><td>1              </td><td>JOSE CAMPOY SERRANO BAR </td><td>08                  </td><td>20081231                 </td><td>71                         </td><td>--                       </td><td>--    </td><td>19730716               </td><td>5611203         </td><td>--                     </td><td>AVENIDA          </td><td>CARLOS LIVIERO        </td><td>263                </td><td>--                      </td><td>VL LIVIGRO                      </td><td>04186100        </td><td>SP             </td><td>7107                      </td><td>--    </td><td>--         </td><td>--    </td><td>--         </td><td>--       </td><td>--   </td><td>--                     </td><td>--                 </td><td>--                      </td></tr>\n",
       "<tr><td><i style='opacity: 0.6'>4</i>      </td><td>62055264     </td><td>0001        </td><td>08       </td><td>1              </td><td>--                      </td><td>08                  </td><td>20081231                 </td><td>71                         </td><td>--                       </td><td>--    </td><td>19681106               </td><td>5611203         </td><td>--                     </td><td>AVENIDA          </td><td>BRIG LUIS ANTONIO     </td><td>1605               </td><td>LOJA                    </td><td>BELA VISTA                      </td><td>01317002        </td><td>SP             </td><td>7107                      </td><td>--    </td><td>--         </td><td>--    </td><td>--         </td><td>--       </td><td>--   </td><td>--                     </td><td>--                 </td><td>--                      </td></tr>\n",
       "<tr><td>...                                </td><td>...          </td><td>...         </td><td>...      </td><td>...            </td><td>...                     </td><td>...                 </td><td>...                      </td><td>...                        </td><td>...                      </td><td>...   </td><td>...                    </td><td>...             </td><td>...                    </td><td>...              </td><td>...                   </td><td>...                </td><td>...                     </td><td>...                             </td><td>...             </td><td>...            </td><td>...                       </td><td>...   </td><td>...        </td><td>...   </td><td>...        </td><td>...      </td><td>...  </td><td>...                    </td><td>...                </td><td>...                     </td></tr>\n",
       "<tr><td><i style='opacity: 0.6'>526,920</i></td><td>14752332     </td><td>0001        </td><td>37       </td><td>1              </td><td>--                      </td><td>08                  </td><td>20180201                 </td><td>67                         </td><td>--                       </td><td>--    </td><td>20111212               </td><td>4712100         </td><td>4729699,4723700,5620104</td><td>RUA              </td><td>BISPO ISAIAS F SUCASAS</td><td>208                </td><td>CASA 2                  </td><td>JARDIM MATARAZZO                </td><td>03814060        </td><td>SP             </td><td>7107                      </td><td>11    </td><td>87342117   </td><td>--    </td><td>--         </td><td>--       </td><td>--   </td><td>joaomariamiranda@r7.com</td><td>--                 </td><td>--                      </td></tr>\n",
       "<tr><td><i style='opacity: 0.6'>526,921</i></td><td>14752977     </td><td>0001        </td><td>70       </td><td>1              </td><td>COMIDA DO BEM CONGELADOS</td><td>08                  </td><td>20150212                 </td><td>01                         </td><td>--                       </td><td>--    </td><td>20111212               </td><td>5620104         </td><td>--                     </td><td>RUA              </td><td>BRANCO DE MORAIS      </td><td>633                </td><td>--                      </td><td>CHACARA SANTO ANTONIO (ZONA SUL)</td><td>04718010        </td><td>SP             </td><td>7107                      </td><td>11    </td><td>35356244   </td><td>--    </td><td>--         </td><td>--       </td><td>--   </td><td>sac@comidadobem.com.br </td><td>--                 </td><td>--                      </td></tr>\n",
       "<tr><td><i style='opacity: 0.6'>526,922</i></td><td>14756428     </td><td>0001        </td><td>73       </td><td>1              </td><td>LANCHONETE ARAUJO       </td><td>08                  </td><td>20180201                 </td><td>67                         </td><td>--                       </td><td>--    </td><td>20111213               </td><td>5611203         </td><td>5620104,4729699        </td><td>RUA              </td><td>SAO TEODORO           </td><td>838                </td><td>--                      </td><td>VILA CARMOSINA                  </td><td>08290005        </td><td>SP             </td><td>7107                      </td><td>11    </td><td>25244211   </td><td>--    </td><td>--         </td><td>--       </td><td>--   </td><td>pessoas@r7.com         </td><td>--                 </td><td>--                      </td></tr>\n",
       "<tr><td><i style='opacity: 0.6'>526,923</i></td><td>14756813     </td><td>0001        </td><td>10       </td><td>1              </td><td>--                      </td><td>02                  </td><td>20111213                 </td><td>00                         </td><td>--                       </td><td>--    </td><td>20111213               </td><td>4712100         </td><td>--                     </td><td>RUA              </td><td>EUGENIO DARODES       </td><td>190                </td><td>--                      </td><td>JARDIM MABEL                    </td><td>08121620        </td><td>SP             </td><td>7107                      </td><td>11    </td><td>84196054   </td><td>--    </td><td>--         </td><td>--       </td><td>--   </td><td>--                     </td><td>--                 </td><td>--                      </td></tr>\n",
       "<tr><td><i style='opacity: 0.6'>526,924</i></td><td>14756869     </td><td>0001        </td><td>75       </td><td>1              </td><td>--                      </td><td>08                  </td><td>20180201                 </td><td>67                         </td><td>--                       </td><td>--    </td><td>20111213               </td><td>5611203         </td><td>--                     </td><td>AVENIDA          </td><td>AGUA VERMELHA         </td><td>120                </td><td>--                      </td><td>VILA NOVA CURUCA                </td><td>08031080        </td><td>SP             </td><td>7107                      </td><td>11    </td><td>20160060   </td><td>--    </td><td>--         </td><td>--       </td><td>--   </td><td>seth@r7.com            </td><td>--                 </td><td>--                      </td></tr>\n",
       "</tbody>\n",
       "</table>"
      ],
      "text/plain": [
       "#        cnpj_basico    cnpj_ordem    cnpj_dv    matriz_filial    nome_fantasia             situacao_cadastral    data_situacao_cadastral    motivo_situacao_cadastral    nome_cidade_no_exterior    pais    data_inicio_atividade    cnae_principal    cnae_secundario          logradouro_tipo    logradouro_nome         logradouro_numero    logradouro_complemento    logradouro_bairro                 logradouro_cep    logradouro_uf    logradouro_cod_municipio    ddd1    telefone1    ddd2    telefone2    ddd_fax    fax    email                    situacao_especial    data_situacao_especial\n",
       "0        61745626       0001          11         1                --                        08                    20081231                   71                           --                         --      19891013                 4721102           --                       RUA                SAO POMPONIO            298                  A                         ALTO DA MOOCA                     03189210          SP               7107                        --      --           --      --           --         --     --                       --                   --\n",
       "1        61901229       0001          91         1                --                        02                    20051103                   00                           --                         --      19680108                 4729699           --                       RUA                PANTOJO                 1026                 --                        AGUA RAZA                         03343000          SP               7107                        --      --           --      --           --         --     --                       --                   --\n",
       "2        61903282       0001          21         1                --                        08                    20150209                   73                           --                         --      19891110                 5611201           --                       ESTRADA            DO CAMPO LIMPO          3244                 --                        CAMPO LIMPO                       05787001          SP               7107                        --      --           --      --           --         --     --                       --                   --\n",
       "3        61987707       0001          28         1                JOSE CAMPOY SERRANO BAR   08                    20081231                   71                           --                         --      19730716                 5611203           --                       AVENIDA            CARLOS LIVIERO          263                  --                        VL LIVIGRO                        04186100          SP               7107                        --      --           --      --           --         --     --                       --                   --\n",
       "4        62055264       0001          08         1                --                        08                    20081231                   71                           --                         --      19681106                 5611203           --                       AVENIDA            BRIG LUIS ANTONIO       1605                 LOJA                      BELA VISTA                        01317002          SP               7107                        --      --           --      --           --         --     --                       --                   --\n",
       "...      ...            ...           ...        ...              ...                       ...                   ...                        ...                          ...                        ...     ...                      ...               ...                      ...                ...                     ...                  ...                       ...                               ...               ...              ...                         ...     ...          ...     ...          ...        ...    ...                      ...                  ...\n",
       "526,920  14752332       0001          37         1                --                        08                    20180201                   67                           --                         --      20111212                 4712100           4729699,4723700,5620104  RUA                BISPO ISAIAS F SUCASAS  208                  CASA 2                    JARDIM MATARAZZO                  03814060          SP               7107                        11      87342117     --      --           --         --     joaomariamiranda@r7.com  --                   --\n",
       "526,921  14752977       0001          70         1                COMIDA DO BEM CONGELADOS  08                    20150212                   01                           --                         --      20111212                 5620104           --                       RUA                BRANCO DE MORAIS        633                  --                        CHACARA SANTO ANTONIO (ZONA SUL)  04718010          SP               7107                        11      35356244     --      --           --         --     sac@comidadobem.com.br   --                   --\n",
       "526,922  14756428       0001          73         1                LANCHONETE ARAUJO         08                    20180201                   67                           --                         --      20111213                 5611203           5620104,4729699          RUA                SAO TEODORO             838                  --                        VILA CARMOSINA                    08290005          SP               7107                        11      25244211     --      --           --         --     pessoas@r7.com           --                   --\n",
       "526,923  14756813       0001          10         1                --                        02                    20111213                   00                           --                         --      20111213                 4712100           --                       RUA                EUGENIO DARODES         190                  --                        JARDIM MABEL                      08121620          SP               7107                        11      84196054     --      --           --         --     --                       --                   --\n",
       "526,924  14756869       0001          75         1                --                        08                    20180201                   67                           --                         --      20111213                 5611203           --                       AVENIDA            AGUA VERMELHA           120                  --                        VILA NOVA CURUCA                  08031080          SP               7107                        11      20160060     --      --           --         --     seth@r7.com              --                   --"
      ]
     },
     "execution_count": 20,
     "metadata": {},
     "output_type": "execute_result"
    }
   ],
   "source": [
    "df_estab_alimentacao_sampa"
   ]
  },
  {
   "cell_type": "code",
   "execution_count": 27,
   "metadata": {},
   "outputs": [],
   "source": [
    "df_estab_alimentacao_sampa['cnpj'] = df_estab_alimentacao_sampa.cnpj_basico + '/' + df_estab_alimentacao_sampa.cnpj_ordem + '-' + df_estab_alimentacao_sampa.cnpj_dv"
   ]
  },
  {
   "cell_type": "code",
   "execution_count": 29,
   "metadata": {},
   "outputs": [],
   "source": [
    "df_estab_alimentacao_sampa['endereco'] = df_estab_alimentacao_sampa.logradouro_tipo + ' ' + df_estab_alimentacao_sampa.logradouro_nome + ', ' +df_estab_alimentacao_sampa.logradouro_numero\n"
   ]
  },
  {
   "cell_type": "code",
   "execution_count": 33,
   "metadata": {},
   "outputs": [
    {
     "data": {
      "text/plain": [
       "(526925, 32)"
      ]
     },
     "execution_count": 33,
     "metadata": {},
     "output_type": "execute_result"
    }
   ],
   "source": [
    "df_estab_alimentacao_sampa.shape"
   ]
  },
  {
   "cell_type": "code",
   "execution_count": 35,
   "metadata": {},
   "outputs": [],
   "source": [
    "df_estab_alimentacao_sampa = df_estab_alimentacao_sampa[df_estab_alimentacao_sampa.endereco.str.len() > 5]"
   ]
  },
  {
   "cell_type": "code",
   "execution_count": 39,
   "metadata": {},
   "outputs": [
    {
     "data": {
      "text/plain": [
       "(525771, 32)"
      ]
     },
     "execution_count": 39,
     "metadata": {},
     "output_type": "execute_result"
    }
   ],
   "source": [
    "df_estab_alimentacao_sampa.shape"
   ]
  },
  {
   "cell_type": "code",
   "execution_count": 38,
   "metadata": {},
   "outputs": [],
   "source": [
    "df_estab_alimentacao_sampa.export_csv('results/estabelecimentos_alimentacao_sampa.csv')"
   ]
  },
  {
   "cell_type": "code",
   "execution_count": 48,
   "metadata": {},
   "outputs": [
    {
     "data": {
      "text/plain": [
       "(525771, 32)"
      ]
     },
     "execution_count": 48,
     "metadata": {},
     "output_type": "execute_result"
    }
   ],
   "source": [
    "df_estab_alimentacao_sampa.shape"
   ]
  },
  {
   "cell_type": "code",
   "execution_count": 45,
   "metadata": {},
   "outputs": [],
   "source": [
    "df_estabelecimentos_geocoded = gpd.read_file('results/estabelecimentos_alimentares_v01.gpkg')"
   ]
  },
  {
   "cell_type": "code",
   "execution_count": 47,
   "metadata": {},
   "outputs": [
    {
     "data": {
      "text/plain": [
       "(525599, 24)"
      ]
     },
     "execution_count": 47,
     "metadata": {},
     "output_type": "execute_result"
    }
   ],
   "source": [
    "df_estabelecimentos_geocoded.shape"
   ]
  },
  {
   "cell_type": "code",
   "execution_count": 51,
   "metadata": {},
   "outputs": [],
   "source": [
    "df_estab_alimentacao_sampa = df_estab_alimentacao_sampa.to_pandas_df()"
   ]
  },
  {
   "cell_type": "code",
   "execution_count": 65,
   "metadata": {},
   "outputs": [
    {
     "data": {
      "text/html": [
       "<div>\n",
       "<style scoped>\n",
       "    .dataframe tbody tr th:only-of-type {\n",
       "        vertical-align: middle;\n",
       "    }\n",
       "\n",
       "    .dataframe tbody tr th {\n",
       "        vertical-align: top;\n",
       "    }\n",
       "\n",
       "    .dataframe thead th {\n",
       "        text-align: right;\n",
       "    }\n",
       "</style>\n",
       "<table border=\"1\" class=\"dataframe\">\n",
       "  <thead>\n",
       "    <tr style=\"text-align: right;\">\n",
       "      <th></th>\n",
       "      <th>cnpj</th>\n",
       "      <th>nice_name</th>\n",
       "      <th>label</th>\n",
       "      <th>confidence</th>\n",
       "      <th>accuracy</th>\n",
       "      <th>source</th>\n",
       "      <th>layer</th>\n",
       "      <th>street</th>\n",
       "      <th>housenumber</th>\n",
       "      <th>postalcode</th>\n",
       "      <th>...</th>\n",
       "      <th>ddd1</th>\n",
       "      <th>telefone1</th>\n",
       "      <th>ddd2</th>\n",
       "      <th>telefone2</th>\n",
       "      <th>ddd_fax</th>\n",
       "      <th>fax</th>\n",
       "      <th>email</th>\n",
       "      <th>situacao_especial</th>\n",
       "      <th>data_situacao_especial</th>\n",
       "      <th>endereco</th>\n",
       "    </tr>\n",
       "  </thead>\n",
       "  <tbody>\n",
       "    <tr>\n",
       "      <th>0</th>\n",
       "      <td>61745626/0001-11</td>\n",
       "      <td>Rua Sao Pomponio 298</td>\n",
       "      <td>Rua Sao Pomponio 298, São Paulo, Brazil</td>\n",
       "      <td>1.0</td>\n",
       "      <td>point</td>\n",
       "      <td>openaddresses</td>\n",
       "      <td>address</td>\n",
       "      <td>Rua Sao Pomponio</td>\n",
       "      <td>298</td>\n",
       "      <td>03189-210</td>\n",
       "      <td>...</td>\n",
       "      <td>None</td>\n",
       "      <td>None</td>\n",
       "      <td>None</td>\n",
       "      <td>None</td>\n",
       "      <td>None</td>\n",
       "      <td>None</td>\n",
       "      <td>None</td>\n",
       "      <td>None</td>\n",
       "      <td>None</td>\n",
       "      <td>RUA SAO POMPONIO, 298</td>\n",
       "    </tr>\n",
       "    <tr>\n",
       "      <th>1</th>\n",
       "      <td>61901229/0001-91</td>\n",
       "      <td>Rua Pantojo 1026</td>\n",
       "      <td>Rua Pantojo 1026, São Paulo, Brazil</td>\n",
       "      <td>1.0</td>\n",
       "      <td>point</td>\n",
       "      <td>openaddresses</td>\n",
       "      <td>address</td>\n",
       "      <td>Rua Pantojo</td>\n",
       "      <td>1026</td>\n",
       "      <td>03343-000</td>\n",
       "      <td>...</td>\n",
       "      <td>None</td>\n",
       "      <td>None</td>\n",
       "      <td>None</td>\n",
       "      <td>None</td>\n",
       "      <td>None</td>\n",
       "      <td>None</td>\n",
       "      <td>None</td>\n",
       "      <td>None</td>\n",
       "      <td>None</td>\n",
       "      <td>RUA PANTOJO, 1026</td>\n",
       "    </tr>\n",
       "    <tr>\n",
       "      <th>2</th>\n",
       "      <td>61903282/0001-21</td>\n",
       "      <td>Estrada Do Campo Limpo 3244</td>\n",
       "      <td>Estrada Do Campo Limpo 3244, São Paulo, Brazil</td>\n",
       "      <td>1.0</td>\n",
       "      <td>point</td>\n",
       "      <td>openaddresses</td>\n",
       "      <td>address</td>\n",
       "      <td>Estrada Do Campo Limpo</td>\n",
       "      <td>3244</td>\n",
       "      <td>05790-000</td>\n",
       "      <td>...</td>\n",
       "      <td>None</td>\n",
       "      <td>None</td>\n",
       "      <td>None</td>\n",
       "      <td>None</td>\n",
       "      <td>None</td>\n",
       "      <td>None</td>\n",
       "      <td>None</td>\n",
       "      <td>None</td>\n",
       "      <td>None</td>\n",
       "      <td>ESTRADA DO CAMPO LIMPO, 3244</td>\n",
       "    </tr>\n",
       "    <tr>\n",
       "      <th>3</th>\n",
       "      <td>61987707/0001-28</td>\n",
       "      <td>Avenida Carlos Liviero</td>\n",
       "      <td>Avenida Carlos Liviero, São Paulo, Brazil</td>\n",
       "      <td>0.8</td>\n",
       "      <td>centroid</td>\n",
       "      <td>openstreetmap</td>\n",
       "      <td>street</td>\n",
       "      <td>Avenida Carlos Liviero</td>\n",
       "      <td>None</td>\n",
       "      <td>None</td>\n",
       "      <td>...</td>\n",
       "      <td>None</td>\n",
       "      <td>None</td>\n",
       "      <td>None</td>\n",
       "      <td>None</td>\n",
       "      <td>None</td>\n",
       "      <td>None</td>\n",
       "      <td>None</td>\n",
       "      <td>None</td>\n",
       "      <td>None</td>\n",
       "      <td>AVENIDA CARLOS LIVIERO, 263</td>\n",
       "    </tr>\n",
       "    <tr>\n",
       "      <th>4</th>\n",
       "      <td>62055264/0001-08</td>\n",
       "      <td>São Paulo</td>\n",
       "      <td>São Paulo, Brazil</td>\n",
       "      <td>0.6</td>\n",
       "      <td>centroid</td>\n",
       "      <td>whosonfirst</td>\n",
       "      <td>locality</td>\n",
       "      <td>None</td>\n",
       "      <td>None</td>\n",
       "      <td>None</td>\n",
       "      <td>...</td>\n",
       "      <td>None</td>\n",
       "      <td>None</td>\n",
       "      <td>None</td>\n",
       "      <td>None</td>\n",
       "      <td>None</td>\n",
       "      <td>None</td>\n",
       "      <td>None</td>\n",
       "      <td>None</td>\n",
       "      <td>None</td>\n",
       "      <td>AVENIDA BRIG LUIS ANTONIO, 1605</td>\n",
       "    </tr>\n",
       "    <tr>\n",
       "      <th>...</th>\n",
       "      <td>...</td>\n",
       "      <td>...</td>\n",
       "      <td>...</td>\n",
       "      <td>...</td>\n",
       "      <td>...</td>\n",
       "      <td>...</td>\n",
       "      <td>...</td>\n",
       "      <td>...</td>\n",
       "      <td>...</td>\n",
       "      <td>...</td>\n",
       "      <td>...</td>\n",
       "      <td>...</td>\n",
       "      <td>...</td>\n",
       "      <td>...</td>\n",
       "      <td>...</td>\n",
       "      <td>...</td>\n",
       "      <td>...</td>\n",
       "      <td>...</td>\n",
       "      <td>...</td>\n",
       "      <td>...</td>\n",
       "      <td>...</td>\n",
       "    </tr>\n",
       "    <tr>\n",
       "      <th>711764</th>\n",
       "      <td>14756428/0001-73</td>\n",
       "      <td>Rua Sao Teodoro 838</td>\n",
       "      <td>Rua Sao Teodoro 838, São Paulo, Brazil</td>\n",
       "      <td>1.0</td>\n",
       "      <td>point</td>\n",
       "      <td>openaddresses</td>\n",
       "      <td>address</td>\n",
       "      <td>Rua Sao Teodoro</td>\n",
       "      <td>838</td>\n",
       "      <td>08290-000</td>\n",
       "      <td>...</td>\n",
       "      <td>11</td>\n",
       "      <td>25244211</td>\n",
       "      <td>None</td>\n",
       "      <td>None</td>\n",
       "      <td>None</td>\n",
       "      <td>None</td>\n",
       "      <td>pessoas@r7.com</td>\n",
       "      <td>None</td>\n",
       "      <td>None</td>\n",
       "      <td>RUA SAO TEODORO, 838</td>\n",
       "    </tr>\n",
       "    <tr>\n",
       "      <th>711765</th>\n",
       "      <td>14756813/0001-10</td>\n",
       "      <td>Rua Eugênio Darodes</td>\n",
       "      <td>Rua Eugênio Darodes, São Paulo, Brazil</td>\n",
       "      <td>0.8</td>\n",
       "      <td>centroid</td>\n",
       "      <td>openstreetmap</td>\n",
       "      <td>street</td>\n",
       "      <td>Rua Eugênio Darodes</td>\n",
       "      <td>None</td>\n",
       "      <td>None</td>\n",
       "      <td>...</td>\n",
       "      <td>11</td>\n",
       "      <td>84196054</td>\n",
       "      <td>None</td>\n",
       "      <td>None</td>\n",
       "      <td>None</td>\n",
       "      <td>None</td>\n",
       "      <td>None</td>\n",
       "      <td>None</td>\n",
       "      <td>None</td>\n",
       "      <td>RUA EUGENIO DARODES, 190</td>\n",
       "    </tr>\n",
       "    <tr>\n",
       "      <th>711766</th>\n",
       "      <td>14756813/0001-10</td>\n",
       "      <td>Rua Eugênio Darodes</td>\n",
       "      <td>Rua Eugênio Darodes, São Paulo, Brazil</td>\n",
       "      <td>0.8</td>\n",
       "      <td>centroid</td>\n",
       "      <td>openstreetmap</td>\n",
       "      <td>street</td>\n",
       "      <td>Rua Eugênio Darodes</td>\n",
       "      <td>None</td>\n",
       "      <td>None</td>\n",
       "      <td>...</td>\n",
       "      <td>11</td>\n",
       "      <td>84196054</td>\n",
       "      <td>None</td>\n",
       "      <td>None</td>\n",
       "      <td>None</td>\n",
       "      <td>None</td>\n",
       "      <td>None</td>\n",
       "      <td>None</td>\n",
       "      <td>None</td>\n",
       "      <td>RUA EUGENIO DARODES, 190</td>\n",
       "    </tr>\n",
       "    <tr>\n",
       "      <th>711767</th>\n",
       "      <td>14756869/0001-75</td>\n",
       "      <td>Avenida Agua Vermelha 120</td>\n",
       "      <td>Avenida Agua Vermelha 120, São Paulo, Brazil</td>\n",
       "      <td>1.0</td>\n",
       "      <td>point</td>\n",
       "      <td>openaddresses</td>\n",
       "      <td>address</td>\n",
       "      <td>Avenida Agua Vermelha</td>\n",
       "      <td>120</td>\n",
       "      <td>08431-470</td>\n",
       "      <td>...</td>\n",
       "      <td>11</td>\n",
       "      <td>20160060</td>\n",
       "      <td>None</td>\n",
       "      <td>None</td>\n",
       "      <td>None</td>\n",
       "      <td>None</td>\n",
       "      <td>seth@r7.com</td>\n",
       "      <td>None</td>\n",
       "      <td>None</td>\n",
       "      <td>AVENIDA AGUA VERMELHA, 120</td>\n",
       "    </tr>\n",
       "    <tr>\n",
       "      <th>711768</th>\n",
       "      <td>14756869/0001-75</td>\n",
       "      <td>Avenida Agua Vermelha 120</td>\n",
       "      <td>Avenida Agua Vermelha 120, São Paulo, Brazil</td>\n",
       "      <td>1.0</td>\n",
       "      <td>point</td>\n",
       "      <td>openaddresses</td>\n",
       "      <td>address</td>\n",
       "      <td>Avenida Agua Vermelha</td>\n",
       "      <td>120</td>\n",
       "      <td>08431-470</td>\n",
       "      <td>...</td>\n",
       "      <td>11</td>\n",
       "      <td>20160060</td>\n",
       "      <td>None</td>\n",
       "      <td>None</td>\n",
       "      <td>None</td>\n",
       "      <td>None</td>\n",
       "      <td>seth@r7.com</td>\n",
       "      <td>None</td>\n",
       "      <td>None</td>\n",
       "      <td>AVENIDA AGUA VERMELHA, 120</td>\n",
       "    </tr>\n",
       "  </tbody>\n",
       "</table>\n",
       "<p>711769 rows × 55 columns</p>\n",
       "</div>"
      ],
      "text/plain": [
       "                    cnpj                    nice_name  \\\n",
       "0       61745626/0001-11         Rua Sao Pomponio 298   \n",
       "1       61901229/0001-91             Rua Pantojo 1026   \n",
       "2       61903282/0001-21  Estrada Do Campo Limpo 3244   \n",
       "3       61987707/0001-28       Avenida Carlos Liviero   \n",
       "4       62055264/0001-08                    São Paulo   \n",
       "...                  ...                          ...   \n",
       "711764  14756428/0001-73          Rua Sao Teodoro 838   \n",
       "711765  14756813/0001-10          Rua Eugênio Darodes   \n",
       "711766  14756813/0001-10          Rua Eugênio Darodes   \n",
       "711767  14756869/0001-75    Avenida Agua Vermelha 120   \n",
       "711768  14756869/0001-75    Avenida Agua Vermelha 120   \n",
       "\n",
       "                                                 label  confidence  accuracy  \\\n",
       "0              Rua Sao Pomponio 298, São Paulo, Brazil         1.0     point   \n",
       "1                  Rua Pantojo 1026, São Paulo, Brazil         1.0     point   \n",
       "2       Estrada Do Campo Limpo 3244, São Paulo, Brazil         1.0     point   \n",
       "3            Avenida Carlos Liviero, São Paulo, Brazil         0.8  centroid   \n",
       "4                                    São Paulo, Brazil         0.6  centroid   \n",
       "...                                                ...         ...       ...   \n",
       "711764          Rua Sao Teodoro 838, São Paulo, Brazil         1.0     point   \n",
       "711765          Rua Eugênio Darodes, São Paulo, Brazil         0.8  centroid   \n",
       "711766          Rua Eugênio Darodes, São Paulo, Brazil         0.8  centroid   \n",
       "711767    Avenida Agua Vermelha 120, São Paulo, Brazil         1.0     point   \n",
       "711768    Avenida Agua Vermelha 120, São Paulo, Brazil         1.0     point   \n",
       "\n",
       "               source     layer                  street housenumber  \\\n",
       "0       openaddresses   address        Rua Sao Pomponio         298   \n",
       "1       openaddresses   address             Rua Pantojo        1026   \n",
       "2       openaddresses   address  Estrada Do Campo Limpo        3244   \n",
       "3       openstreetmap    street  Avenida Carlos Liviero        None   \n",
       "4         whosonfirst  locality                    None        None   \n",
       "...               ...       ...                     ...         ...   \n",
       "711764  openaddresses   address         Rua Sao Teodoro         838   \n",
       "711765  openstreetmap    street     Rua Eugênio Darodes        None   \n",
       "711766  openstreetmap    street     Rua Eugênio Darodes        None   \n",
       "711767  openaddresses   address   Avenida Agua Vermelha         120   \n",
       "711768  openaddresses   address   Avenida Agua Vermelha         120   \n",
       "\n",
       "       postalcode  ...  ddd1 telefone1  ddd2 telefone2 ddd_fax   fax  \\\n",
       "0       03189-210  ...  None      None  None      None    None  None   \n",
       "1       03343-000  ...  None      None  None      None    None  None   \n",
       "2       05790-000  ...  None      None  None      None    None  None   \n",
       "3            None  ...  None      None  None      None    None  None   \n",
       "4            None  ...  None      None  None      None    None  None   \n",
       "...           ...  ...   ...       ...   ...       ...     ...   ...   \n",
       "711764  08290-000  ...    11  25244211  None      None    None  None   \n",
       "711765       None  ...    11  84196054  None      None    None  None   \n",
       "711766       None  ...    11  84196054  None      None    None  None   \n",
       "711767  08431-470  ...    11  20160060  None      None    None  None   \n",
       "711768  08431-470  ...    11  20160060  None      None    None  None   \n",
       "\n",
       "                 email situacao_especial data_situacao_especial  \\\n",
       "0                 None              None                   None   \n",
       "1                 None              None                   None   \n",
       "2                 None              None                   None   \n",
       "3                 None              None                   None   \n",
       "4                 None              None                   None   \n",
       "...                ...               ...                    ...   \n",
       "711764  pessoas@r7.com              None                   None   \n",
       "711765            None              None                   None   \n",
       "711766            None              None                   None   \n",
       "711767     seth@r7.com              None                   None   \n",
       "711768     seth@r7.com              None                   None   \n",
       "\n",
       "                               endereco  \n",
       "0                 RUA SAO POMPONIO, 298  \n",
       "1                     RUA PANTOJO, 1026  \n",
       "2          ESTRADA DO CAMPO LIMPO, 3244  \n",
       "3           AVENIDA CARLOS LIVIERO, 263  \n",
       "4       AVENIDA BRIG LUIS ANTONIO, 1605  \n",
       "...                                 ...  \n",
       "711764             RUA SAO TEODORO, 838  \n",
       "711765         RUA EUGENIO DARODES, 190  \n",
       "711766         RUA EUGENIO DARODES, 190  \n",
       "711767       AVENIDA AGUA VERMELHA, 120  \n",
       "711768       AVENIDA AGUA VERMELHA, 120  \n",
       "\n",
       "[711769 rows x 55 columns]"
      ]
     },
     "execution_count": 65,
     "metadata": {},
     "output_type": "execute_result"
    }
   ],
   "source": [
    "df_estabelecimentos_geocoded.merge(df_estab_alimentacao_sampa, on='cnpj', how='left', copy=False)"
   ]
  },
  {
   "cell_type": "code",
   "execution_count": null,
   "metadata": {},
   "outputs": [],
   "source": []
  }
 ],
 "metadata": {
  "kernelspec": {
   "display_name": "geo",
   "language": "python",
   "name": "python3"
  },
  "language_info": {
   "codemirror_mode": {
    "name": "ipython",
    "version": 3
   },
   "file_extension": ".py",
   "mimetype": "text/x-python",
   "name": "python",
   "nbconvert_exporter": "python",
   "pygments_lexer": "ipython3",
   "version": "3.10.6"
  },
  "orig_nbformat": 4,
  "vscode": {
   "interpreter": {
    "hash": "eb8c1f4e76c40be48a3cc0fee87511a472a8e68107d09d543228af74479ae7aa"
   }
  }
 },
 "nbformat": 4,
 "nbformat_minor": 2
}
